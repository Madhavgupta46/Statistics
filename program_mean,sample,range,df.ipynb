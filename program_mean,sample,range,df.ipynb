{
 "cells": [
  {
   "cell_type": "code",
   "execution_count": 1,
   "id": "db4ccbbf-ce88-472e-95b9-187c4d65cd62",
   "metadata": {},
   "outputs": [],
   "source": [
    "import pandas as pd\n",
    "import numpy as np\n",
    "df=pd.read_csv('Fortune500.csv')"
   ]
  },
  {
   "cell_type": "code",
   "execution_count": 2,
   "id": "2a9cacd8-2c0a-4d89-bfb4-be164be70c21",
   "metadata": {},
   "outputs": [
    {
     "data": {
      "text/html": [
       "<div>\n",
       "<style scoped>\n",
       "    .dataframe tbody tr th:only-of-type {\n",
       "        vertical-align: middle;\n",
       "    }\n",
       "\n",
       "    .dataframe tbody tr th {\n",
       "        vertical-align: top;\n",
       "    }\n",
       "\n",
       "    .dataframe thead th {\n",
       "        text-align: right;\n",
       "    }\n",
       "</style>\n",
       "<table border=\"1\" class=\"dataframe\">\n",
       "  <thead>\n",
       "    <tr style=\"text-align: right;\">\n",
       "      <th></th>\n",
       "      <th>Rank</th>\n",
       "      <th>Title</th>\n",
       "      <th>Employees</th>\n",
       "      <th>Sector</th>\n",
       "      <th>Industry</th>\n",
       "      <th>Hqcity</th>\n",
       "      <th>Ceo</th>\n",
       "      <th>Ceo-title</th>\n",
       "      <th>Revenues</th>\n",
       "      <th>Revchange</th>\n",
       "      <th>Profits</th>\n",
       "      <th>Prftchange</th>\n",
       "      <th>Assets</th>\n",
       "    </tr>\n",
       "  </thead>\n",
       "  <tbody>\n",
       "    <tr>\n",
       "      <th>0</th>\n",
       "      <td>1</td>\n",
       "      <td>Walmart</td>\n",
       "      <td>2300000</td>\n",
       "      <td>Retailing</td>\n",
       "      <td>General Merchandisers</td>\n",
       "      <td>Bentonville</td>\n",
       "      <td>C. Douglas McMillon</td>\n",
       "      <td>President, Chief Executive Officer &amp; Director</td>\n",
       "      <td>485873</td>\n",
       "      <td>0.8</td>\n",
       "      <td>13643.0</td>\n",
       "      <td>-7.2</td>\n",
       "      <td>198825</td>\n",
       "    </tr>\n",
       "    <tr>\n",
       "      <th>1</th>\n",
       "      <td>2</td>\n",
       "      <td>Berkshire Hathaway</td>\n",
       "      <td>367700</td>\n",
       "      <td>Financials</td>\n",
       "      <td>Insurance: Property and Casualty (Stock)</td>\n",
       "      <td>Omaha</td>\n",
       "      <td>Warren E. Buffett</td>\n",
       "      <td>Chairman &amp; Chief Executive Officer</td>\n",
       "      <td>223604</td>\n",
       "      <td>6.1</td>\n",
       "      <td>24074.0</td>\n",
       "      <td>0</td>\n",
       "      <td>620854</td>\n",
       "    </tr>\n",
       "    <tr>\n",
       "      <th>2</th>\n",
       "      <td>3</td>\n",
       "      <td>Apple</td>\n",
       "      <td>116000</td>\n",
       "      <td>Technology</td>\n",
       "      <td>Computers, Office Equipment</td>\n",
       "      <td>Cupertino</td>\n",
       "      <td>Timothy D. Cook</td>\n",
       "      <td>Chief Executive Officer &amp; Director</td>\n",
       "      <td>215639</td>\n",
       "      <td>-7.7</td>\n",
       "      <td>45687.0</td>\n",
       "      <td>-14.4</td>\n",
       "      <td>321686</td>\n",
       "    </tr>\n",
       "    <tr>\n",
       "      <th>3</th>\n",
       "      <td>4</td>\n",
       "      <td>Exxon Mobil</td>\n",
       "      <td>72700</td>\n",
       "      <td>Energy</td>\n",
       "      <td>Petroleum Refining</td>\n",
       "      <td>Irving</td>\n",
       "      <td>Darren W. Woods</td>\n",
       "      <td>Chairman &amp; Chief Executive Officer</td>\n",
       "      <td>205004</td>\n",
       "      <td>-16.7</td>\n",
       "      <td>7840.0</td>\n",
       "      <td>-51.5</td>\n",
       "      <td>330314</td>\n",
       "    </tr>\n",
       "    <tr>\n",
       "      <th>4</th>\n",
       "      <td>5</td>\n",
       "      <td>McKesson</td>\n",
       "      <td>68000</td>\n",
       "      <td>Wholesalers</td>\n",
       "      <td>Wholesalers: Health Care</td>\n",
       "      <td>San Francisco</td>\n",
       "      <td>John H. Hammergren</td>\n",
       "      <td>Chairman, President &amp; Chief Executive Officer</td>\n",
       "      <td>192487</td>\n",
       "      <td>6.2</td>\n",
       "      <td>2258.0</td>\n",
       "      <td>53</td>\n",
       "      <td>56563</td>\n",
       "    </tr>\n",
       "    <tr>\n",
       "      <th>...</th>\n",
       "      <td>...</td>\n",
       "      <td>...</td>\n",
       "      <td>...</td>\n",
       "      <td>...</td>\n",
       "      <td>...</td>\n",
       "      <td>...</td>\n",
       "      <td>...</td>\n",
       "      <td>...</td>\n",
       "      <td>...</td>\n",
       "      <td>...</td>\n",
       "      <td>...</td>\n",
       "      <td>...</td>\n",
       "      <td>...</td>\n",
       "    </tr>\n",
       "    <tr>\n",
       "      <th>495</th>\n",
       "      <td>496</td>\n",
       "      <td>Michaels Cos.</td>\n",
       "      <td>31000</td>\n",
       "      <td>Retailing</td>\n",
       "      <td>Specialty Retailers: Other</td>\n",
       "      <td>Irving</td>\n",
       "      <td>Carl S. Rubin</td>\n",
       "      <td>Chairman &amp; Chief Executive Officer</td>\n",
       "      <td>5197</td>\n",
       "      <td>5.8</td>\n",
       "      <td>378.2</td>\n",
       "      <td>4.2</td>\n",
       "      <td>2148</td>\n",
       "    </tr>\n",
       "    <tr>\n",
       "      <th>496</th>\n",
       "      <td>497</td>\n",
       "      <td>Toll Brothers</td>\n",
       "      <td>4200</td>\n",
       "      <td>Engineering &amp; Construction</td>\n",
       "      <td>Homebuilders</td>\n",
       "      <td>Horsham</td>\n",
       "      <td>Douglas C. Yearley Jr.</td>\n",
       "      <td>Chief Executive Officer &amp; Director</td>\n",
       "      <td>5170</td>\n",
       "      <td>23.9</td>\n",
       "      <td>382.1</td>\n",
       "      <td>5.2</td>\n",
       "      <td>9737</td>\n",
       "    </tr>\n",
       "    <tr>\n",
       "      <th>497</th>\n",
       "      <td>498</td>\n",
       "      <td>Yahoo</td>\n",
       "      <td>8500</td>\n",
       "      <td>Technology</td>\n",
       "      <td>Internet Services and Retailing</td>\n",
       "      <td>Sunnyvale</td>\n",
       "      <td>Marissa A. Mayer</td>\n",
       "      <td>President, Chief Executive Officer &amp; Director</td>\n",
       "      <td>5169</td>\n",
       "      <td>4.0</td>\n",
       "      <td>-214.3</td>\n",
       "      <td>5.2</td>\n",
       "      <td>48083</td>\n",
       "    </tr>\n",
       "    <tr>\n",
       "      <th>498</th>\n",
       "      <td>499</td>\n",
       "      <td>Vistra Energy</td>\n",
       "      <td>4431</td>\n",
       "      <td>Energy</td>\n",
       "      <td>Energy</td>\n",
       "      <td>Dallas</td>\n",
       "      <td>Curtis A. Morgan</td>\n",
       "      <td>President, Chief Executive Officer &amp; Director</td>\n",
       "      <td>5164</td>\n",
       "      <td>4.0</td>\n",
       "      <td>-214.3</td>\n",
       "      <td>5.2</td>\n",
       "      <td>15167</td>\n",
       "    </tr>\n",
       "    <tr>\n",
       "      <th>499</th>\n",
       "      <td>500</td>\n",
       "      <td>ABM Industries</td>\n",
       "      <td>110000</td>\n",
       "      <td>Business Services</td>\n",
       "      <td>Diversified Outsourcing Services</td>\n",
       "      <td>New York</td>\n",
       "      <td>Scott B. Salmirs</td>\n",
       "      <td>President, Chief Executive Officer &amp; Director</td>\n",
       "      <td>5145</td>\n",
       "      <td>-2.8</td>\n",
       "      <td>57.2</td>\n",
       "      <td>-25</td>\n",
       "      <td>2281</td>\n",
       "    </tr>\n",
       "  </tbody>\n",
       "</table>\n",
       "<p>500 rows × 13 columns</p>\n",
       "</div>"
      ],
      "text/plain": [
       "     Rank               Title  Employees                      Sector  \\\n",
       "0       1             Walmart    2300000                   Retailing   \n",
       "1       2  Berkshire Hathaway     367700                  Financials   \n",
       "2       3               Apple     116000                  Technology   \n",
       "3       4         Exxon Mobil      72700                      Energy   \n",
       "4       5            McKesson      68000                 Wholesalers   \n",
       "..    ...                 ...        ...                         ...   \n",
       "495   496       Michaels Cos.      31000                   Retailing   \n",
       "496   497       Toll Brothers       4200  Engineering & Construction   \n",
       "497   498               Yahoo       8500                  Technology   \n",
       "498   499       Vistra Energy       4431                      Energy   \n",
       "499   500      ABM Industries     110000           Business Services   \n",
       "\n",
       "                                     Industry         Hqcity  \\\n",
       "0                       General Merchandisers    Bentonville   \n",
       "1    Insurance: Property and Casualty (Stock)          Omaha   \n",
       "2                 Computers, Office Equipment      Cupertino   \n",
       "3                          Petroleum Refining         Irving   \n",
       "4                    Wholesalers: Health Care  San Francisco   \n",
       "..                                        ...            ...   \n",
       "495                Specialty Retailers: Other         Irving   \n",
       "496                              Homebuilders        Horsham   \n",
       "497           Internet Services and Retailing      Sunnyvale   \n",
       "498                                    Energy         Dallas   \n",
       "499          Diversified Outsourcing Services       New York   \n",
       "\n",
       "                        Ceo                                      Ceo-title  \\\n",
       "0       C. Douglas McMillon  President, Chief Executive Officer & Director   \n",
       "1         Warren E. Buffett             Chairman & Chief Executive Officer   \n",
       "2           Timothy D. Cook             Chief Executive Officer & Director   \n",
       "3           Darren W. Woods             Chairman & Chief Executive Officer   \n",
       "4        John H. Hammergren  Chairman, President & Chief Executive Officer   \n",
       "..                      ...                                            ...   \n",
       "495           Carl S. Rubin             Chairman & Chief Executive Officer   \n",
       "496  Douglas C. Yearley Jr.             Chief Executive Officer & Director   \n",
       "497        Marissa A. Mayer  President, Chief Executive Officer & Director   \n",
       "498        Curtis A. Morgan  President, Chief Executive Officer & Director   \n",
       "499        Scott B. Salmirs  President, Chief Executive Officer & Director   \n",
       "\n",
       "     Revenues  Revchange  Profits Prftchange  Assets  \n",
       "0      485873        0.8  13643.0       -7.2  198825  \n",
       "1      223604        6.1  24074.0          0  620854  \n",
       "2      215639       -7.7  45687.0      -14.4  321686  \n",
       "3      205004      -16.7   7840.0      -51.5  330314  \n",
       "4      192487        6.2   2258.0         53   56563  \n",
       "..        ...        ...      ...        ...     ...  \n",
       "495      5197        5.8    378.2        4.2    2148  \n",
       "496      5170       23.9    382.1        5.2    9737  \n",
       "497      5169        4.0   -214.3        5.2   48083  \n",
       "498      5164        4.0   -214.3        5.2   15167  \n",
       "499      5145       -2.8     57.2        -25    2281  \n",
       "\n",
       "[500 rows x 13 columns]"
      ]
     },
     "execution_count": 2,
     "metadata": {},
     "output_type": "execute_result"
    }
   ],
   "source": [
    "df"
   ]
  },
  {
   "cell_type": "code",
   "execution_count": 3,
   "id": "60d6c761-e08c-4303-b027-9fe13cbca2e2",
   "metadata": {},
   "outputs": [
    {
     "data": {
      "text/html": [
       "<div>\n",
       "<style scoped>\n",
       "    .dataframe tbody tr th:only-of-type {\n",
       "        vertical-align: middle;\n",
       "    }\n",
       "\n",
       "    .dataframe tbody tr th {\n",
       "        vertical-align: top;\n",
       "    }\n",
       "\n",
       "    .dataframe thead th {\n",
       "        text-align: right;\n",
       "    }\n",
       "</style>\n",
       "<table border=\"1\" class=\"dataframe\">\n",
       "  <thead>\n",
       "    <tr style=\"text-align: right;\">\n",
       "      <th></th>\n",
       "      <th>Rank</th>\n",
       "      <th>Title</th>\n",
       "      <th>Employees</th>\n",
       "      <th>Sector</th>\n",
       "      <th>Industry</th>\n",
       "      <th>Hqcity</th>\n",
       "      <th>Ceo</th>\n",
       "      <th>Ceo-title</th>\n",
       "      <th>Revenues</th>\n",
       "      <th>Revchange</th>\n",
       "      <th>Profits</th>\n",
       "      <th>Prftchange</th>\n",
       "      <th>Assets</th>\n",
       "    </tr>\n",
       "  </thead>\n",
       "  <tbody>\n",
       "    <tr>\n",
       "      <th>0</th>\n",
       "      <td>1</td>\n",
       "      <td>Walmart</td>\n",
       "      <td>2300000</td>\n",
       "      <td>Retailing</td>\n",
       "      <td>General Merchandisers</td>\n",
       "      <td>Bentonville</td>\n",
       "      <td>C. Douglas McMillon</td>\n",
       "      <td>President, Chief Executive Officer &amp; Director</td>\n",
       "      <td>485873</td>\n",
       "      <td>0.8</td>\n",
       "      <td>13643.0</td>\n",
       "      <td>-7.2</td>\n",
       "      <td>198825</td>\n",
       "    </tr>\n",
       "    <tr>\n",
       "      <th>1</th>\n",
       "      <td>2</td>\n",
       "      <td>Berkshire Hathaway</td>\n",
       "      <td>367700</td>\n",
       "      <td>Financials</td>\n",
       "      <td>Insurance: Property and Casualty (Stock)</td>\n",
       "      <td>Omaha</td>\n",
       "      <td>Warren E. Buffett</td>\n",
       "      <td>Chairman &amp; Chief Executive Officer</td>\n",
       "      <td>223604</td>\n",
       "      <td>6.1</td>\n",
       "      <td>24074.0</td>\n",
       "      <td>0</td>\n",
       "      <td>620854</td>\n",
       "    </tr>\n",
       "    <tr>\n",
       "      <th>2</th>\n",
       "      <td>3</td>\n",
       "      <td>Apple</td>\n",
       "      <td>116000</td>\n",
       "      <td>Technology</td>\n",
       "      <td>Computers, Office Equipment</td>\n",
       "      <td>Cupertino</td>\n",
       "      <td>Timothy D. Cook</td>\n",
       "      <td>Chief Executive Officer &amp; Director</td>\n",
       "      <td>215639</td>\n",
       "      <td>-7.7</td>\n",
       "      <td>45687.0</td>\n",
       "      <td>-14.4</td>\n",
       "      <td>321686</td>\n",
       "    </tr>\n",
       "    <tr>\n",
       "      <th>3</th>\n",
       "      <td>4</td>\n",
       "      <td>Exxon Mobil</td>\n",
       "      <td>72700</td>\n",
       "      <td>Energy</td>\n",
       "      <td>Petroleum Refining</td>\n",
       "      <td>Irving</td>\n",
       "      <td>Darren W. Woods</td>\n",
       "      <td>Chairman &amp; Chief Executive Officer</td>\n",
       "      <td>205004</td>\n",
       "      <td>-16.7</td>\n",
       "      <td>7840.0</td>\n",
       "      <td>-51.5</td>\n",
       "      <td>330314</td>\n",
       "    </tr>\n",
       "    <tr>\n",
       "      <th>4</th>\n",
       "      <td>5</td>\n",
       "      <td>McKesson</td>\n",
       "      <td>68000</td>\n",
       "      <td>Wholesalers</td>\n",
       "      <td>Wholesalers: Health Care</td>\n",
       "      <td>San Francisco</td>\n",
       "      <td>John H. Hammergren</td>\n",
       "      <td>Chairman, President &amp; Chief Executive Officer</td>\n",
       "      <td>192487</td>\n",
       "      <td>6.2</td>\n",
       "      <td>2258.0</td>\n",
       "      <td>53</td>\n",
       "      <td>56563</td>\n",
       "    </tr>\n",
       "  </tbody>\n",
       "</table>\n",
       "</div>"
      ],
      "text/plain": [
       "   Rank               Title  Employees       Sector  \\\n",
       "0     1             Walmart    2300000    Retailing   \n",
       "1     2  Berkshire Hathaway     367700   Financials   \n",
       "2     3               Apple     116000   Technology   \n",
       "3     4         Exxon Mobil      72700       Energy   \n",
       "4     5            McKesson      68000  Wholesalers   \n",
       "\n",
       "                                   Industry         Hqcity  \\\n",
       "0                     General Merchandisers    Bentonville   \n",
       "1  Insurance: Property and Casualty (Stock)          Omaha   \n",
       "2               Computers, Office Equipment      Cupertino   \n",
       "3                        Petroleum Refining         Irving   \n",
       "4                  Wholesalers: Health Care  San Francisco   \n",
       "\n",
       "                   Ceo                                      Ceo-title  \\\n",
       "0  C. Douglas McMillon  President, Chief Executive Officer & Director   \n",
       "1    Warren E. Buffett             Chairman & Chief Executive Officer   \n",
       "2      Timothy D. Cook             Chief Executive Officer & Director   \n",
       "3      Darren W. Woods             Chairman & Chief Executive Officer   \n",
       "4   John H. Hammergren  Chairman, President & Chief Executive Officer   \n",
       "\n",
       "   Revenues  Revchange  Profits Prftchange  Assets  \n",
       "0    485873        0.8  13643.0       -7.2  198825  \n",
       "1    223604        6.1  24074.0          0  620854  \n",
       "2    215639       -7.7  45687.0      -14.4  321686  \n",
       "3    205004      -16.7   7840.0      -51.5  330314  \n",
       "4    192487        6.2   2258.0         53   56563  "
      ]
     },
     "execution_count": 3,
     "metadata": {},
     "output_type": "execute_result"
    }
   ],
   "source": [
    "#for first five rows\n",
    "df.head()"
   ]
  },
  {
   "cell_type": "code",
   "execution_count": 4,
   "id": "2804dd96-322c-4bfa-a887-b87b1df2f24b",
   "metadata": {},
   "outputs": [
    {
     "data": {
      "text/html": [
       "<div>\n",
       "<style scoped>\n",
       "    .dataframe tbody tr th:only-of-type {\n",
       "        vertical-align: middle;\n",
       "    }\n",
       "\n",
       "    .dataframe tbody tr th {\n",
       "        vertical-align: top;\n",
       "    }\n",
       "\n",
       "    .dataframe thead th {\n",
       "        text-align: right;\n",
       "    }\n",
       "</style>\n",
       "<table border=\"1\" class=\"dataframe\">\n",
       "  <thead>\n",
       "    <tr style=\"text-align: right;\">\n",
       "      <th></th>\n",
       "      <th>Rank</th>\n",
       "      <th>Title</th>\n",
       "      <th>Employees</th>\n",
       "      <th>Sector</th>\n",
       "      <th>Industry</th>\n",
       "      <th>Hqcity</th>\n",
       "      <th>Ceo</th>\n",
       "      <th>Ceo-title</th>\n",
       "      <th>Revenues</th>\n",
       "      <th>Revchange</th>\n",
       "      <th>Profits</th>\n",
       "      <th>Prftchange</th>\n",
       "      <th>Assets</th>\n",
       "    </tr>\n",
       "  </thead>\n",
       "  <tbody>\n",
       "    <tr>\n",
       "      <th>495</th>\n",
       "      <td>496</td>\n",
       "      <td>Michaels Cos.</td>\n",
       "      <td>31000</td>\n",
       "      <td>Retailing</td>\n",
       "      <td>Specialty Retailers: Other</td>\n",
       "      <td>Irving</td>\n",
       "      <td>Carl S. Rubin</td>\n",
       "      <td>Chairman &amp; Chief Executive Officer</td>\n",
       "      <td>5197</td>\n",
       "      <td>5.8</td>\n",
       "      <td>378.2</td>\n",
       "      <td>4.2</td>\n",
       "      <td>2148</td>\n",
       "    </tr>\n",
       "    <tr>\n",
       "      <th>496</th>\n",
       "      <td>497</td>\n",
       "      <td>Toll Brothers</td>\n",
       "      <td>4200</td>\n",
       "      <td>Engineering &amp; Construction</td>\n",
       "      <td>Homebuilders</td>\n",
       "      <td>Horsham</td>\n",
       "      <td>Douglas C. Yearley Jr.</td>\n",
       "      <td>Chief Executive Officer &amp; Director</td>\n",
       "      <td>5170</td>\n",
       "      <td>23.9</td>\n",
       "      <td>382.1</td>\n",
       "      <td>5.2</td>\n",
       "      <td>9737</td>\n",
       "    </tr>\n",
       "    <tr>\n",
       "      <th>497</th>\n",
       "      <td>498</td>\n",
       "      <td>Yahoo</td>\n",
       "      <td>8500</td>\n",
       "      <td>Technology</td>\n",
       "      <td>Internet Services and Retailing</td>\n",
       "      <td>Sunnyvale</td>\n",
       "      <td>Marissa A. Mayer</td>\n",
       "      <td>President, Chief Executive Officer &amp; Director</td>\n",
       "      <td>5169</td>\n",
       "      <td>4.0</td>\n",
       "      <td>-214.3</td>\n",
       "      <td>5.2</td>\n",
       "      <td>48083</td>\n",
       "    </tr>\n",
       "    <tr>\n",
       "      <th>498</th>\n",
       "      <td>499</td>\n",
       "      <td>Vistra Energy</td>\n",
       "      <td>4431</td>\n",
       "      <td>Energy</td>\n",
       "      <td>Energy</td>\n",
       "      <td>Dallas</td>\n",
       "      <td>Curtis A. Morgan</td>\n",
       "      <td>President, Chief Executive Officer &amp; Director</td>\n",
       "      <td>5164</td>\n",
       "      <td>4.0</td>\n",
       "      <td>-214.3</td>\n",
       "      <td>5.2</td>\n",
       "      <td>15167</td>\n",
       "    </tr>\n",
       "    <tr>\n",
       "      <th>499</th>\n",
       "      <td>500</td>\n",
       "      <td>ABM Industries</td>\n",
       "      <td>110000</td>\n",
       "      <td>Business Services</td>\n",
       "      <td>Diversified Outsourcing Services</td>\n",
       "      <td>New York</td>\n",
       "      <td>Scott B. Salmirs</td>\n",
       "      <td>President, Chief Executive Officer &amp; Director</td>\n",
       "      <td>5145</td>\n",
       "      <td>-2.8</td>\n",
       "      <td>57.2</td>\n",
       "      <td>-25</td>\n",
       "      <td>2281</td>\n",
       "    </tr>\n",
       "  </tbody>\n",
       "</table>\n",
       "</div>"
      ],
      "text/plain": [
       "     Rank           Title  Employees                      Sector  \\\n",
       "495   496   Michaels Cos.      31000                   Retailing   \n",
       "496   497   Toll Brothers       4200  Engineering & Construction   \n",
       "497   498           Yahoo       8500                  Technology   \n",
       "498   499   Vistra Energy       4431                      Energy   \n",
       "499   500  ABM Industries     110000           Business Services   \n",
       "\n",
       "                             Industry     Hqcity                     Ceo  \\\n",
       "495        Specialty Retailers: Other     Irving           Carl S. Rubin   \n",
       "496                      Homebuilders    Horsham  Douglas C. Yearley Jr.   \n",
       "497   Internet Services and Retailing  Sunnyvale        Marissa A. Mayer   \n",
       "498                            Energy     Dallas        Curtis A. Morgan   \n",
       "499  Diversified Outsourcing Services   New York        Scott B. Salmirs   \n",
       "\n",
       "                                         Ceo-title  Revenues  Revchange  \\\n",
       "495             Chairman & Chief Executive Officer      5197        5.8   \n",
       "496             Chief Executive Officer & Director      5170       23.9   \n",
       "497  President, Chief Executive Officer & Director      5169        4.0   \n",
       "498  President, Chief Executive Officer & Director      5164        4.0   \n",
       "499  President, Chief Executive Officer & Director      5145       -2.8   \n",
       "\n",
       "     Profits Prftchange  Assets  \n",
       "495    378.2        4.2    2148  \n",
       "496    382.1        5.2    9737  \n",
       "497   -214.3        5.2   48083  \n",
       "498   -214.3        5.2   15167  \n",
       "499     57.2        -25    2281  "
      ]
     },
     "execution_count": 4,
     "metadata": {},
     "output_type": "execute_result"
    }
   ],
   "source": [
    "#for last five rows\n",
    "df.tail()"
   ]
  },
  {
   "cell_type": "code",
   "execution_count": 5,
   "id": "48f95808-de95-4b3e-b1c6-0c28e8807e0f",
   "metadata": {},
   "outputs": [
    {
     "data": {
      "text/plain": [
       "(500, 13)"
      ]
     },
     "execution_count": 5,
     "metadata": {},
     "output_type": "execute_result"
    }
   ],
   "source": [
    "#to find the rows and column of a data\n",
    "df.shape"
   ]
  },
  {
   "cell_type": "code",
   "execution_count": 6,
   "id": "22cb0ed4-d7ac-4797-bcae-1842c5036b92",
   "metadata": {},
   "outputs": [
    {
     "name": "stdout",
     "output_type": "stream",
     "text": [
      "<class 'pandas.core.frame.DataFrame'>\n",
      "RangeIndex: 500 entries, 0 to 499\n",
      "Data columns (total 13 columns):\n",
      " #   Column      Non-Null Count  Dtype  \n",
      "---  ------      --------------  -----  \n",
      " 0   Rank        500 non-null    int64  \n",
      " 1   Title       500 non-null    object \n",
      " 2   Employees   500 non-null    int64  \n",
      " 3   Sector      500 non-null    object \n",
      " 4   Industry    500 non-null    object \n",
      " 5   Hqcity      500 non-null    object \n",
      " 6   Ceo         500 non-null    object \n",
      " 7   Ceo-title   500 non-null    object \n",
      " 8   Revenues    500 non-null    int64  \n",
      " 9   Revchange   500 non-null    float64\n",
      " 10  Profits     500 non-null    float64\n",
      " 11  Prftchange  500 non-null    object \n",
      " 12  Assets      500 non-null    int64  \n",
      "dtypes: float64(2), int64(4), object(7)\n",
      "memory usage: 50.9+ KB\n"
     ]
    }
   ],
   "source": [
    "#information about the colums\n",
    "#very important before working on dataset\n",
    "df.info()"
   ]
  },
  {
   "cell_type": "code",
   "execution_count": 7,
   "id": "3a4f27b6-2f63-46ce-bf4a-25e9605dc960",
   "metadata": {},
   "outputs": [],
   "source": [
    "                                               ##creating a sub dataset##\n",
    "sub_df=df[[\"Rank\",\"Title\",\"Employees\",\"Sector\",\"Revenues\",\"Profits\"]]"
   ]
  },
  {
   "cell_type": "code",
   "execution_count": 8,
   "id": "168803fe-ef9e-4983-8b05-f308dee6ba0a",
   "metadata": {},
   "outputs": [
    {
     "name": "stdout",
     "output_type": "stream",
     "text": [
      "<class 'pandas.core.frame.DataFrame'>\n",
      "RangeIndex: 500 entries, 0 to 499\n",
      "Data columns (total 6 columns):\n",
      " #   Column     Non-Null Count  Dtype  \n",
      "---  ------     --------------  -----  \n",
      " 0   Rank       500 non-null    int64  \n",
      " 1   Title      500 non-null    object \n",
      " 2   Employees  500 non-null    int64  \n",
      " 3   Sector     500 non-null    object \n",
      " 4   Revenues   500 non-null    int64  \n",
      " 5   Profits    500 non-null    float64\n",
      "dtypes: float64(1), int64(3), object(2)\n",
      "memory usage: 23.6+ KB\n"
     ]
    }
   ],
   "source": [
    "sub_df.info()"
   ]
  },
  {
   "cell_type": "code",
   "execution_count": 9,
   "id": "b4381cb7-3321-41d8-990e-3ca28a935eaf",
   "metadata": {},
   "outputs": [
    {
     "data": {
      "text/html": [
       "<div>\n",
       "<style scoped>\n",
       "    .dataframe tbody tr th:only-of-type {\n",
       "        vertical-align: middle;\n",
       "    }\n",
       "\n",
       "    .dataframe tbody tr th {\n",
       "        vertical-align: top;\n",
       "    }\n",
       "\n",
       "    .dataframe thead th {\n",
       "        text-align: right;\n",
       "    }\n",
       "</style>\n",
       "<table border=\"1\" class=\"dataframe\">\n",
       "  <thead>\n",
       "    <tr style=\"text-align: right;\">\n",
       "      <th></th>\n",
       "      <th>Rank</th>\n",
       "      <th>Title</th>\n",
       "      <th>Employees</th>\n",
       "      <th>Sector</th>\n",
       "      <th>Revenues</th>\n",
       "      <th>Profits</th>\n",
       "    </tr>\n",
       "  </thead>\n",
       "  <tbody>\n",
       "    <tr>\n",
       "      <th>0</th>\n",
       "      <td>1</td>\n",
       "      <td>Walmart</td>\n",
       "      <td>2300000</td>\n",
       "      <td>Retailing</td>\n",
       "      <td>485873</td>\n",
       "      <td>13643.0</td>\n",
       "    </tr>\n",
       "    <tr>\n",
       "      <th>1</th>\n",
       "      <td>2</td>\n",
       "      <td>Berkshire Hathaway</td>\n",
       "      <td>367700</td>\n",
       "      <td>Financials</td>\n",
       "      <td>223604</td>\n",
       "      <td>24074.0</td>\n",
       "    </tr>\n",
       "    <tr>\n",
       "      <th>2</th>\n",
       "      <td>3</td>\n",
       "      <td>Apple</td>\n",
       "      <td>116000</td>\n",
       "      <td>Technology</td>\n",
       "      <td>215639</td>\n",
       "      <td>45687.0</td>\n",
       "    </tr>\n",
       "    <tr>\n",
       "      <th>3</th>\n",
       "      <td>4</td>\n",
       "      <td>Exxon Mobil</td>\n",
       "      <td>72700</td>\n",
       "      <td>Energy</td>\n",
       "      <td>205004</td>\n",
       "      <td>7840.0</td>\n",
       "    </tr>\n",
       "    <tr>\n",
       "      <th>4</th>\n",
       "      <td>5</td>\n",
       "      <td>McKesson</td>\n",
       "      <td>68000</td>\n",
       "      <td>Wholesalers</td>\n",
       "      <td>192487</td>\n",
       "      <td>2258.0</td>\n",
       "    </tr>\n",
       "    <tr>\n",
       "      <th>5</th>\n",
       "      <td>6</td>\n",
       "      <td>UnitedHealth Group</td>\n",
       "      <td>230000</td>\n",
       "      <td>Health Care</td>\n",
       "      <td>184840</td>\n",
       "      <td>7017.0</td>\n",
       "    </tr>\n",
       "    <tr>\n",
       "      <th>6</th>\n",
       "      <td>7</td>\n",
       "      <td>CVS Health</td>\n",
       "      <td>204000</td>\n",
       "      <td>Health Care</td>\n",
       "      <td>177526</td>\n",
       "      <td>5317.0</td>\n",
       "    </tr>\n",
       "    <tr>\n",
       "      <th>7</th>\n",
       "      <td>8</td>\n",
       "      <td>General Motors</td>\n",
       "      <td>225000</td>\n",
       "      <td>Motor Vehicles &amp; Parts</td>\n",
       "      <td>166380</td>\n",
       "      <td>9427.0</td>\n",
       "    </tr>\n",
       "    <tr>\n",
       "      <th>8</th>\n",
       "      <td>9</td>\n",
       "      <td>AT&amp;T</td>\n",
       "      <td>268540</td>\n",
       "      <td>Telecommunications</td>\n",
       "      <td>163786</td>\n",
       "      <td>12976.0</td>\n",
       "    </tr>\n",
       "    <tr>\n",
       "      <th>9</th>\n",
       "      <td>10</td>\n",
       "      <td>Ford Motor</td>\n",
       "      <td>201000</td>\n",
       "      <td>Motor Vehicles &amp; Parts</td>\n",
       "      <td>151800</td>\n",
       "      <td>4596.0</td>\n",
       "    </tr>\n",
       "  </tbody>\n",
       "</table>\n",
       "</div>"
      ],
      "text/plain": [
       "   Rank               Title  Employees                  Sector  Revenues  \\\n",
       "0     1             Walmart    2300000               Retailing    485873   \n",
       "1     2  Berkshire Hathaway     367700              Financials    223604   \n",
       "2     3               Apple     116000              Technology    215639   \n",
       "3     4         Exxon Mobil      72700                  Energy    205004   \n",
       "4     5            McKesson      68000             Wholesalers    192487   \n",
       "5     6  UnitedHealth Group     230000             Health Care    184840   \n",
       "6     7          CVS Health     204000             Health Care    177526   \n",
       "7     8      General Motors     225000  Motor Vehicles & Parts    166380   \n",
       "8     9                AT&T     268540      Telecommunications    163786   \n",
       "9    10          Ford Motor     201000  Motor Vehicles & Parts    151800   \n",
       "\n",
       "   Profits  \n",
       "0  13643.0  \n",
       "1  24074.0  \n",
       "2  45687.0  \n",
       "3   7840.0  \n",
       "4   2258.0  \n",
       "5   7017.0  \n",
       "6   5317.0  \n",
       "7   9427.0  \n",
       "8  12976.0  \n",
       "9   4596.0  "
      ]
     },
     "execution_count": 9,
     "metadata": {},
     "output_type": "execute_result"
    }
   ],
   "source": [
    "sub_df.head(10)"
   ]
  },
  {
   "cell_type": "code",
   "execution_count": 10,
   "id": "657f02e6-b4f1-4fb1-b3fb-fae6bfd02763",
   "metadata": {},
   "outputs": [
    {
     "data": {
      "text/html": [
       "<div>\n",
       "<style scoped>\n",
       "    .dataframe tbody tr th:only-of-type {\n",
       "        vertical-align: middle;\n",
       "    }\n",
       "\n",
       "    .dataframe tbody tr th {\n",
       "        vertical-align: top;\n",
       "    }\n",
       "\n",
       "    .dataframe thead th {\n",
       "        text-align: right;\n",
       "    }\n",
       "</style>\n",
       "<table border=\"1\" class=\"dataframe\">\n",
       "  <thead>\n",
       "    <tr style=\"text-align: right;\">\n",
       "      <th></th>\n",
       "      <th>Rank</th>\n",
       "      <th>Employees</th>\n",
       "      <th>Revenues</th>\n",
       "      <th>Profits</th>\n",
       "    </tr>\n",
       "  </thead>\n",
       "  <tbody>\n",
       "    <tr>\n",
       "      <th>count</th>\n",
       "      <td>500.000000</td>\n",
       "      <td>5.000000e+02</td>\n",
       "      <td>500.000000</td>\n",
       "      <td>500.000000</td>\n",
       "    </tr>\n",
       "    <tr>\n",
       "      <th>mean</th>\n",
       "      <td>250.492000</td>\n",
       "      <td>5.635013e+04</td>\n",
       "      <td>24111.748000</td>\n",
       "      <td>1779.479800</td>\n",
       "    </tr>\n",
       "    <tr>\n",
       "      <th>std</th>\n",
       "      <td>144.477366</td>\n",
       "      <td>1.234520e+05</td>\n",
       "      <td>38337.353337</td>\n",
       "      <td>3937.558721</td>\n",
       "    </tr>\n",
       "    <tr>\n",
       "      <th>min</th>\n",
       "      <td>1.000000</td>\n",
       "      <td>8.300000e+01</td>\n",
       "      <td>5145.000000</td>\n",
       "      <td>-6177.000000</td>\n",
       "    </tr>\n",
       "    <tr>\n",
       "      <th>25%</th>\n",
       "      <td>125.750000</td>\n",
       "      <td>1.190000e+04</td>\n",
       "      <td>7245.000000</td>\n",
       "      <td>235.725000</td>\n",
       "    </tr>\n",
       "    <tr>\n",
       "      <th>50%</th>\n",
       "      <td>250.500000</td>\n",
       "      <td>2.500000e+04</td>\n",
       "      <td>11384.000000</td>\n",
       "      <td>683.600000</td>\n",
       "    </tr>\n",
       "    <tr>\n",
       "      <th>75%</th>\n",
       "      <td>375.250000</td>\n",
       "      <td>5.682525e+04</td>\n",
       "      <td>22605.250000</td>\n",
       "      <td>1770.775000</td>\n",
       "    </tr>\n",
       "    <tr>\n",
       "      <th>max</th>\n",
       "      <td>500.000000</td>\n",
       "      <td>2.300000e+06</td>\n",
       "      <td>485873.000000</td>\n",
       "      <td>45687.000000</td>\n",
       "    </tr>\n",
       "  </tbody>\n",
       "</table>\n",
       "</div>"
      ],
      "text/plain": [
       "             Rank     Employees       Revenues       Profits\n",
       "count  500.000000  5.000000e+02     500.000000    500.000000\n",
       "mean   250.492000  5.635013e+04   24111.748000   1779.479800\n",
       "std    144.477366  1.234520e+05   38337.353337   3937.558721\n",
       "min      1.000000  8.300000e+01    5145.000000  -6177.000000\n",
       "25%    125.750000  1.190000e+04    7245.000000    235.725000\n",
       "50%    250.500000  2.500000e+04   11384.000000    683.600000\n",
       "75%    375.250000  5.682525e+04   22605.250000   1770.775000\n",
       "max    500.000000  2.300000e+06  485873.000000  45687.000000"
      ]
     },
     "execution_count": 10,
     "metadata": {},
     "output_type": "execute_result"
    }
   ],
   "source": [
    "sub_df.describe()"
   ]
  },
  {
   "cell_type": "code",
   "execution_count": 11,
   "id": "4e5c5f0b-faee-4837-a7e5-463e91039da7",
   "metadata": {},
   "outputs": [
    {
     "name": "stdout",
     "output_type": "stream",
     "text": [
      "24111.748\n"
     ]
    }
   ],
   "source": [
    "                                     #extracting particular column description\n",
    "mean_rev=sub_df[\"Revenues\"].mean()\n",
    "print(mean_rev)"
   ]
  },
  {
   "cell_type": "code",
   "execution_count": 12,
   "id": "eff57eef-679a-4bef-8d86-2eb7e66d4a1a",
   "metadata": {},
   "outputs": [
    {
     "name": "stdout",
     "output_type": "stream",
     "text": [
      "11384.0\n"
     ]
    }
   ],
   "source": [
    "median_rev=sub_df[\"Revenues\"].median()\n",
    "print(median_rev)"
   ]
  },
  {
   "cell_type": "code",
   "execution_count": 13,
   "id": "44a4ec3d-393c-48e9-b288-fdf4b53943d7",
   "metadata": {},
   "outputs": [
    {
     "name": "stdout",
     "output_type": "stream",
     "text": [
      "0    9061\n",
      "Name: Revenues, dtype: int64\n"
     ]
    }
   ],
   "source": [
    "mode_rev=sub_df[\"Revenues\"].mode()\n",
    "print(mode_rev)"
   ]
  },
  {
   "cell_type": "code",
   "execution_count": 14,
   "id": "f0847a11-c63e-4cde-83f4-66d2462e1846",
   "metadata": {},
   "outputs": [
    {
     "name": "stdout",
     "output_type": "stream",
     "text": [
      "5145\n"
     ]
    }
   ],
   "source": [
    "min_rev=sub_df[\"Revenues\"].min()\n",
    "print(min_rev)"
   ]
  },
  {
   "cell_type": "code",
   "execution_count": 15,
   "id": "64a616c1-a774-4632-a677-75c2739fe66e",
   "metadata": {},
   "outputs": [
    {
     "name": "stdout",
     "output_type": "stream",
     "text": [
      "485873\n"
     ]
    }
   ],
   "source": [
    "max_rev=sub_df[\"Revenues\"].max()\n",
    "print(max_rev)"
   ]
  },
  {
   "cell_type": "code",
   "execution_count": 16,
   "id": "29bd258a-a7d9-447b-a796-bcf20e14fc4c",
   "metadata": {},
   "outputs": [
    {
     "name": "stdout",
     "output_type": "stream",
     "text": [
      "480728\n"
     ]
    }
   ],
   "source": [
    "range=max_rev-min_rev\n",
    "print(range)"
   ]
  },
  {
   "cell_type": "code",
   "execution_count": 17,
   "id": "20c27dc6-ad1a-4d97-b720-63e239880c2b",
   "metadata": {},
   "outputs": [
    {
     "data": {
      "text/plain": [
       "480728"
      ]
     },
     "execution_count": 17,
     "metadata": {},
     "output_type": "execute_result"
    }
   ],
   "source": [
    "sub_df[\"Revenues\"].max()-sub_df[\"Revenues\"].min()"
   ]
  },
  {
   "cell_type": "code",
   "execution_count": 40,
   "id": "d8ab53cb-39f8-4631-954e-77a496470a9d",
   "metadata": {},
   "outputs": [
    {
     "name": "stdout",
     "output_type": "stream",
     "text": [
      "38337.35333653324\n"
     ]
    }
   ],
   "source": [
    "##standard deviation\n",
    "sd=sub_df[\"Revenues\"].std()\n",
    "print(sd)"
   ]
  },
  {
   "cell_type": "code",
   "execution_count": 46,
   "id": "1b4c49d5-411e-409e-b1a6-9de79b937ae5",
   "metadata": {},
   "outputs": [
    {
     "name": "stdout",
     "output_type": "stream",
     "text": [
      "1469752660.8501961\n"
     ]
    }
   ],
   "source": [
    "#variance\n",
    "var=sub_df[\"Revenues\"].var()\n",
    "print(var)"
   ]
  },
  {
   "cell_type": "code",
   "execution_count": 50,
   "id": "175022ca-979d-4918-8a57-d27bcbb833b7",
   "metadata": {},
   "outputs": [
    {
     "data": {
      "text/plain": [
       "7245.0"
      ]
     },
     "execution_count": 50,
     "metadata": {},
     "output_type": "execute_result"
    }
   ],
   "source": [
    "##Quartile\n",
    "q1=sub_df[\"Revenues\"].quantile(0.25)\n",
    "q1"
   ]
  },
  {
   "cell_type": "markdown",
   "id": "3269e6cc-83fc-4e82-90f3-c38eac293c43",
   "metadata": {},
   "source": [
    "**iqr=q3-q1**"
   ]
  },
  {
   "cell_type": "code",
   "execution_count": 56,
   "id": "a8903652-408c-4deb-a79f-1e3a124b290a",
   "metadata": {},
   "outputs": [
    {
     "data": {
      "text/plain": [
       "15360.25"
      ]
     },
     "execution_count": 56,
     "metadata": {},
     "output_type": "execute_result"
    }
   ],
   "source": [
    "iqr=sub_df[\"Revenues\"].quantile(0.75)-sub_df[\"Revenues\"].quantile(0.25)\n",
    "iqr"
   ]
  },
  {
   "cell_type": "markdown",
   "id": "37311618-6ee0-43b6-b3d8-2575152e4caf",
   "metadata": {},
   "source": [
    "** chexk skwness **"
   ]
  },
  {
   "cell_type": "code",
   "execution_count": 58,
   "id": "79630a35-f0d0-4d3f-9e52-88083cbd2c6a",
   "metadata": {},
   "outputs": [
    {
     "data": {
      "text/plain": [
       "5.480066970305041"
      ]
     },
     "execution_count": 58,
     "metadata": {},
     "output_type": "execute_result"
    }
   ],
   "source": [
    "skew=sub_df[\"Revenues\"].skew()\n",
    "skew"
   ]
  },
  {
   "cell_type": "code",
   "execution_count": 62,
   "id": "e7462c37-eaae-4d73-af97-11cfba5fcc96",
   "metadata": {},
   "outputs": [
    {
     "data": {
      "text/plain": [
       "158.99864803055027"
      ]
     },
     "execution_count": 62,
     "metadata": {},
     "output_type": "execute_result"
    }
   ],
   "source": [
    "cv=(sd/mean_rev)*100\n",
    "cv"
   ]
  },
  {
   "cell_type": "code",
   "execution_count": 70,
   "id": "25f47219-ba1d-415d-963b-aa7e755b361e",
   "metadata": {},
   "outputs": [
    {
     "name": "stdout",
     "output_type": "stream",
     "text": [
      "the cv of profit is: 221.2758313353473\n"
     ]
    }
   ],
   "source": [
    "cv_profit=(sub_df[\"Profits\"].std()/sub_df[\"Profits\"].mean())*100\n",
    "print(\"the cv of profit is:\",cv_profit)"
   ]
  },
  {
   "cell_type": "markdown",
   "id": "bf2a91cc-6dda-4ff6-b19c-3eacf36dd024",
   "metadata": {},
   "source": [
    "** random and sample rows printing**"
   ]
  },
  {
   "cell_type": "code",
   "execution_count": 78,
   "id": "0f92e209-b9e1-4173-80a3-2239483d5012",
   "metadata": {},
   "outputs": [
    {
     "data": {
      "text/html": [
       "<div>\n",
       "<style scoped>\n",
       "    .dataframe tbody tr th:only-of-type {\n",
       "        vertical-align: middle;\n",
       "    }\n",
       "\n",
       "    .dataframe tbody tr th {\n",
       "        vertical-align: top;\n",
       "    }\n",
       "\n",
       "    .dataframe thead th {\n",
       "        text-align: right;\n",
       "    }\n",
       "</style>\n",
       "<table border=\"1\" class=\"dataframe\">\n",
       "  <thead>\n",
       "    <tr style=\"text-align: right;\">\n",
       "      <th></th>\n",
       "      <th>Rank</th>\n",
       "      <th>Title</th>\n",
       "      <th>Employees</th>\n",
       "      <th>Sector</th>\n",
       "      <th>Revenues</th>\n",
       "      <th>Profits</th>\n",
       "    </tr>\n",
       "  </thead>\n",
       "  <tbody>\n",
       "    <tr>\n",
       "      <th>293</th>\n",
       "      <td>294</td>\n",
       "      <td>Air Products &amp; Chemicals</td>\n",
       "      <td>18450</td>\n",
       "      <td>Chemicals</td>\n",
       "      <td>9524</td>\n",
       "      <td>631.1</td>\n",
       "    </tr>\n",
       "    <tr>\n",
       "      <th>459</th>\n",
       "      <td>460</td>\n",
       "      <td>Markel</td>\n",
       "      <td>10900</td>\n",
       "      <td>Financials</td>\n",
       "      <td>5612</td>\n",
       "      <td>455.7</td>\n",
       "    </tr>\n",
       "    <tr>\n",
       "      <th>11</th>\n",
       "      <td>12</td>\n",
       "      <td>Amazon.com</td>\n",
       "      <td>341400</td>\n",
       "      <td>Technology</td>\n",
       "      <td>135987</td>\n",
       "      <td>2371.0</td>\n",
       "    </tr>\n",
       "    <tr>\n",
       "      <th>246</th>\n",
       "      <td>247</td>\n",
       "      <td>Core-Mark Holding</td>\n",
       "      <td>7688</td>\n",
       "      <td>Wholesalers</td>\n",
       "      <td>11507</td>\n",
       "      <td>54.2</td>\n",
       "    </tr>\n",
       "    <tr>\n",
       "      <th>71</th>\n",
       "      <td>72</td>\n",
       "      <td>Best Buy</td>\n",
       "      <td>125000</td>\n",
       "      <td>Retailing</td>\n",
       "      <td>39403</td>\n",
       "      <td>1228.0</td>\n",
       "    </tr>\n",
       "    <tr>\n",
       "      <th>264</th>\n",
       "      <td>265</td>\n",
       "      <td>Applied Materials</td>\n",
       "      <td>16150</td>\n",
       "      <td>Technology</td>\n",
       "      <td>10825</td>\n",
       "      <td>1721.0</td>\n",
       "    </tr>\n",
       "    <tr>\n",
       "      <th>215</th>\n",
       "      <td>216</td>\n",
       "      <td>Kellogg</td>\n",
       "      <td>37369</td>\n",
       "      <td>Food, Beverages &amp; Tobacco</td>\n",
       "      <td>13014</td>\n",
       "      <td>694.0</td>\n",
       "    </tr>\n",
       "    <tr>\n",
       "      <th>378</th>\n",
       "      <td>379</td>\n",
       "      <td>Computer Sciences</td>\n",
       "      <td>59000</td>\n",
       "      <td>Technology</td>\n",
       "      <td>7106</td>\n",
       "      <td>251.0</td>\n",
       "    </tr>\n",
       "    <tr>\n",
       "      <th>359</th>\n",
       "      <td>360</td>\n",
       "      <td>EMCOR Group</td>\n",
       "      <td>31000</td>\n",
       "      <td>Engineering &amp; Construction</td>\n",
       "      <td>7552</td>\n",
       "      <td>181.9</td>\n",
       "    </tr>\n",
       "    <tr>\n",
       "      <th>248</th>\n",
       "      <td>249</td>\n",
       "      <td>Las Vegas Sands</td>\n",
       "      <td>49000</td>\n",
       "      <td>Hotels, Restaurants &amp; Leisure</td>\n",
       "      <td>11410</td>\n",
       "      <td>1670.0</td>\n",
       "    </tr>\n",
       "  </tbody>\n",
       "</table>\n",
       "</div>"
      ],
      "text/plain": [
       "     Rank                     Title  Employees                         Sector  \\\n",
       "293   294  Air Products & Chemicals      18450                      Chemicals   \n",
       "459   460                    Markel      10900                     Financials   \n",
       "11     12                Amazon.com     341400                     Technology   \n",
       "246   247         Core-Mark Holding       7688                    Wholesalers   \n",
       "71     72                  Best Buy     125000                      Retailing   \n",
       "264   265         Applied Materials      16150                     Technology   \n",
       "215   216                   Kellogg      37369      Food, Beverages & Tobacco   \n",
       "378   379         Computer Sciences      59000                     Technology   \n",
       "359   360               EMCOR Group      31000     Engineering & Construction   \n",
       "248   249           Las Vegas Sands      49000  Hotels, Restaurants & Leisure   \n",
       "\n",
       "     Revenues  Profits  \n",
       "293      9524    631.1  \n",
       "459      5612    455.7  \n",
       "11     135987   2371.0  \n",
       "246     11507     54.2  \n",
       "71      39403   1228.0  \n",
       "264     10825   1721.0  \n",
       "215     13014    694.0  \n",
       "378      7106    251.0  \n",
       "359      7552    181.9  \n",
       "248     11410   1670.0  "
      ]
     },
     "execution_count": 78,
     "metadata": {},
     "output_type": "execute_result"
    }
   ],
   "source": [
    "sub_df.sample(10)"
   ]
  },
  {
   "cell_type": "code",
   "execution_count": 84,
   "id": "2d231bdd-f17e-4c2a-bc25-641512c6976e",
   "metadata": {},
   "outputs": [
    {
     "data": {
      "text/html": [
       "<div>\n",
       "<style scoped>\n",
       "    .dataframe tbody tr th:only-of-type {\n",
       "        vertical-align: middle;\n",
       "    }\n",
       "\n",
       "    .dataframe tbody tr th {\n",
       "        vertical-align: top;\n",
       "    }\n",
       "\n",
       "    .dataframe thead th {\n",
       "        text-align: right;\n",
       "    }\n",
       "</style>\n",
       "<table border=\"1\" class=\"dataframe\">\n",
       "  <thead>\n",
       "    <tr style=\"text-align: right;\">\n",
       "      <th></th>\n",
       "      <th>Rank</th>\n",
       "      <th>Title</th>\n",
       "      <th>Employees</th>\n",
       "      <th>Sector</th>\n",
       "      <th>Revenues</th>\n",
       "      <th>Profits</th>\n",
       "    </tr>\n",
       "  </thead>\n",
       "  <tbody>\n",
       "    <tr>\n",
       "      <th>163</th>\n",
       "      <td>164</td>\n",
       "      <td>Paccar</td>\n",
       "      <td>23000</td>\n",
       "      <td>Industrials</td>\n",
       "      <td>17033</td>\n",
       "      <td>521.7</td>\n",
       "    </tr>\n",
       "    <tr>\n",
       "      <th>273</th>\n",
       "      <td>274</td>\n",
       "      <td>HollyFrontier</td>\n",
       "      <td>2676</td>\n",
       "      <td>Energy</td>\n",
       "      <td>10536</td>\n",
       "      <td>-260.5</td>\n",
       "    </tr>\n",
       "    <tr>\n",
       "      <th>390</th>\n",
       "      <td>391</td>\n",
       "      <td>Jones Lang LaSalle</td>\n",
       "      <td>77300</td>\n",
       "      <td>Financials</td>\n",
       "      <td>6804</td>\n",
       "      <td>318.2</td>\n",
       "    </tr>\n",
       "    <tr>\n",
       "      <th>170</th>\n",
       "      <td>171</td>\n",
       "      <td>Performance Food Group</td>\n",
       "      <td>13000</td>\n",
       "      <td>Wholesalers</td>\n",
       "      <td>16105</td>\n",
       "      <td>68.3</td>\n",
       "    </tr>\n",
       "    <tr>\n",
       "      <th>340</th>\n",
       "      <td>341</td>\n",
       "      <td>Weyerhaeuser</td>\n",
       "      <td>10400</td>\n",
       "      <td>Materials</td>\n",
       "      <td>7902</td>\n",
       "      <td>1027.0</td>\n",
       "    </tr>\n",
       "  </tbody>\n",
       "</table>\n",
       "</div>"
      ],
      "text/plain": [
       "     Rank                   Title  Employees       Sector  Revenues  Profits\n",
       "163   164                  Paccar      23000  Industrials     17033    521.7\n",
       "273   274           HollyFrontier       2676       Energy     10536   -260.5\n",
       "390   391      Jones Lang LaSalle      77300   Financials      6804    318.2\n",
       "170   171  Performance Food Group      13000  Wholesalers     16105     68.3\n",
       "340   341            Weyerhaeuser      10400    Materials      7902   1027.0"
      ]
     },
     "execution_count": 84,
     "metadata": {},
     "output_type": "execute_result"
    }
   ],
   "source": [
    "sub_df.sample(frac = 0.01)"
   ]
  },
  {
   "cell_type": "code",
   "execution_count": 90,
   "id": "41862de0-00fb-4fe2-810b-94baafdedbf7",
   "metadata": {},
   "outputs": [
    {
     "name": "stdout",
     "output_type": "stream",
     "text": [
      "23609.96285714286\n"
     ]
    }
   ],
   "source": [
    "sample_df=sub_df.sample(frac = 0.70)\n",
    "sam_mean=sample_df[\"Revenues\"].mean()\n",
    "print(sam_mean)"
   ]
  },
  {
   "cell_type": "code",
   "execution_count": 94,
   "id": "5458d638-ae3b-4aff-aedb-a55c83d6a5d3",
   "metadata": {},
   "outputs": [
    {
     "name": "stdout",
     "output_type": "stream",
     "text": [
      "24044.977142857144\n"
     ]
    }
   ],
   "source": [
    "sample_df=sub_df.sample(frac = 0.70,random_state=0)\n",
    "sam_mean1=sample_df[\"Revenues\"].mean()\n",
    "print(sam_mean1)"
   ]
  },
  {
   "cell_type": "code",
   "execution_count": 96,
   "id": "23f8af10-b361-49bc-9df5-eecc69af6a99",
   "metadata": {},
   "outputs": [
    {
     "name": "stdout",
     "output_type": "stream",
     "text": [
      "24044.977142857144\n"
     ]
    }
   ],
   "source": [
    "sample_df=sub_df.sample(frac = 0.70,random_state=0)\n",
    "sam_mean2=sample_df[\"Revenues\"].mean()\n",
    "print(sam_mean2)"
   ]
  },
  {
   "cell_type": "code",
   "execution_count": null,
   "id": "2c02e7e4-f365-45e9-bce4-bcc5548d532e",
   "metadata": {},
   "outputs": [],
   "source": []
  }
 ],
 "metadata": {
  "kernelspec": {
   "display_name": "Python 3 (ipykernel)",
   "language": "python",
   "name": "python3"
  },
  "language_info": {
   "codemirror_mode": {
    "name": "ipython",
    "version": 3
   },
   "file_extension": ".py",
   "mimetype": "text/x-python",
   "name": "python",
   "nbconvert_exporter": "python",
   "pygments_lexer": "ipython3",
   "version": "3.12.4"
  }
 },
 "nbformat": 4,
 "nbformat_minor": 5
}
