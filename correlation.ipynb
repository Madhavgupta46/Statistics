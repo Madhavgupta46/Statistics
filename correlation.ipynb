{
 "cells": [
  {
   "cell_type": "code",
   "execution_count": 3,
   "id": "54fadaba-4d2c-4752-8e39-bfa03104d219",
   "metadata": {},
   "outputs": [
    {
     "name": "stdout",
     "output_type": "stream",
     "text": [
      "   height  weight\n",
      "0     150      50\n",
      "1     160      55\n",
      "2     165      60\n",
      "3     170      65\n",
      "4     175      70\n",
      "5     180      75\n",
      "6     185      80\n",
      "7     190      85\n"
     ]
    }
   ],
   "source": [
    "import pandas as pd \n",
    "import numpy as np \n",
    "data={\n",
    "    \"height\":[150,160,165,170,175,180,185,190],\n",
    "    \"weight\":[50,55,60,65,70,75,80,85]\n",
    "}\n",
    "df=pd.DataFrame(data)\n",
    "print(df)"
   ]
  },
  {
   "cell_type": "code",
   "execution_count": 7,
   "id": "67d5f6c1-a715-4850-84ac-f842f6cf0e10",
   "metadata": {},
   "outputs": [
    {
     "data": {
      "text/html": [
       "<div>\n",
       "<style scoped>\n",
       "    .dataframe tbody tr th:only-of-type {\n",
       "        vertical-align: middle;\n",
       "    }\n",
       "\n",
       "    .dataframe tbody tr th {\n",
       "        vertical-align: top;\n",
       "    }\n",
       "\n",
       "    .dataframe thead th {\n",
       "        text-align: right;\n",
       "    }\n",
       "</style>\n",
       "<table border=\"1\" class=\"dataframe\">\n",
       "  <thead>\n",
       "    <tr style=\"text-align: right;\">\n",
       "      <th></th>\n",
       "      <th>height</th>\n",
       "      <th>weight</th>\n",
       "    </tr>\n",
       "  </thead>\n",
       "  <tbody>\n",
       "    <tr>\n",
       "      <th>0</th>\n",
       "      <td>150</td>\n",
       "      <td>50</td>\n",
       "    </tr>\n",
       "    <tr>\n",
       "      <th>1</th>\n",
       "      <td>160</td>\n",
       "      <td>55</td>\n",
       "    </tr>\n",
       "    <tr>\n",
       "      <th>2</th>\n",
       "      <td>165</td>\n",
       "      <td>60</td>\n",
       "    </tr>\n",
       "    <tr>\n",
       "      <th>3</th>\n",
       "      <td>170</td>\n",
       "      <td>65</td>\n",
       "    </tr>\n",
       "    <tr>\n",
       "      <th>4</th>\n",
       "      <td>175</td>\n",
       "      <td>70</td>\n",
       "    </tr>\n",
       "  </tbody>\n",
       "</table>\n",
       "</div>"
      ],
      "text/plain": [
       "   height  weight\n",
       "0     150      50\n",
       "1     160      55\n",
       "2     165      60\n",
       "3     170      65\n",
       "4     175      70"
      ]
     },
     "execution_count": 7,
     "metadata": {},
     "output_type": "execute_result"
    }
   ],
   "source": [
    "df.head()"
   ]
  },
  {
   "cell_type": "markdown",
   "id": "79fac742-002d-476d-87d3-42ed2b1ee130",
   "metadata": {},
   "source": [
    "***karl pearson***"
   ]
  },
  {
   "cell_type": "code",
   "execution_count": 5,
   "id": "687bd1a3-ea6e-4d0f-b74e-2f3b3527f934",
   "metadata": {},
   "outputs": [
    {
     "name": "stdout",
     "output_type": "stream",
     "text": [
      "0.9941348467724345\n"
     ]
    }
   ],
   "source": [
    "correlation=df[\"height\"].corr(df[\"weight\"])\n",
    "print(correlation)"
   ]
  },
  {
   "cell_type": "markdown",
   "id": "f499552f-1385-4e3a-b66b-7b790be32382",
   "metadata": {},
   "source": [
    "***charles spearson******spearman rank***"
   ]
  },
  {
   "cell_type": "code",
   "execution_count": 11,
   "id": "86b6af0c-9f54-4c18-8b88-1c81659af9ad",
   "metadata": {},
   "outputs": [
    {
     "name": "stdout",
     "output_type": "stream",
     "text": [
      "1.0\n"
     ]
    }
   ],
   "source": [
    "correlation2=df[\"height\"].corr(df[\"weight\"],method=\"spearman\")\n",
    "print(correlation2)"
   ]
  },
  {
   "cell_type": "markdown",
   "id": "80f2c4c7-5d24-4d67-9485-47f18440b72f",
   "metadata": {},
   "source": [
    "***manualy spearman rank***"
   ]
  },
  {
   "cell_type": "code",
   "execution_count": 16,
   "id": "e9740020-ba93-46ae-b2cb-42ea739f4596",
   "metadata": {},
   "outputs": [
    {
     "name": "stdout",
     "output_type": "stream",
     "text": [
      "   height  weight  rank\n",
      "0     150      50   1.0\n",
      "1     160      55   2.0\n",
      "2     165      60   3.0\n",
      "3     170      65   4.0\n",
      "4     175      70   5.0\n",
      "5     180      75   6.0\n",
      "6     185      80   7.0\n",
      "7     190      85   8.0\n"
     ]
    }
   ],
   "source": [
    "df[\"rank\"]=df[\"height\"].rank()\n",
    "print(df)"
   ]
  },
  {
   "cell_type": "code",
   "execution_count": 24,
   "id": "f3ee1c33-3570-4717-be24-f6e420583e73",
   "metadata": {},
   "outputs": [
    {
     "name": "stdout",
     "output_type": "stream",
     "text": [
      "   height  weight  rank  rank2\n",
      "0     150      50   1.0    1.0\n",
      "1     160      55   2.0    2.0\n",
      "2     165      60   3.0    3.0\n",
      "3     170      65   4.0    4.0\n",
      "4     175      70   5.0    5.0\n",
      "5     180      75   6.0    6.0\n",
      "6     185      80   7.0    7.0\n",
      "7     190      85   8.0    8.0\n"
     ]
    }
   ],
   "source": [
    "df[\"rank2\"]=df[\"weight\"].rank()\n",
    "print(df)"
   ]
  },
  {
   "cell_type": "code",
   "execution_count": 55,
   "id": "4500bb56-b0c5-4fc3-92b1-6a7b4f151538",
   "metadata": {},
   "outputs": [
    {
     "name": "stdout",
     "output_type": "stream",
     "text": [
      "8\n"
     ]
    }
   ],
   "source": [
    "n=len(df)\n",
    "print(n)"
   ]
  },
  {
   "cell_type": "code",
   "execution_count": 57,
   "id": "85b111bf-4310-4fa8-a70c-3a6edc06e75e",
   "metadata": {},
   "outputs": [
    {
     "name": "stdout",
     "output_type": "stream",
     "text": [
      "   height  weight  rank  rank2    d    D  D^2\n",
      "0     150      50   1.0    1.0  0.0  0.0  0.0\n",
      "1     160      55   2.0    2.0  0.0  0.0  0.0\n",
      "2     165      60   3.0    3.0  0.0  0.0  0.0\n",
      "3     170      65   4.0    4.0  0.0  0.0  0.0\n",
      "4     175      70   5.0    5.0  0.0  0.0  0.0\n",
      "5     180      75   6.0    6.0  0.0  0.0  0.0\n",
      "6     185      80   7.0    7.0  0.0  0.0  0.0\n",
      "7     190      85   8.0    8.0  0.0  0.0  0.0\n"
     ]
    }
   ],
   "source": [
    "df[\"D\"]=df[\"rank\"]-df[\"rank2\"]\n",
    "print(df)"
   ]
  },
  {
   "cell_type": "code",
   "execution_count": 59,
   "id": "a7f1d261-3172-494e-96ef-650df717f9bc",
   "metadata": {},
   "outputs": [
    {
     "name": "stdout",
     "output_type": "stream",
     "text": [
      "   height  weight  rank  rank2    d    D  D^2\n",
      "0     150      50   1.0    1.0  0.0  0.0  0.0\n",
      "1     160      55   2.0    2.0  0.0  0.0  0.0\n",
      "2     165      60   3.0    3.0  0.0  0.0  0.0\n",
      "3     170      65   4.0    4.0  0.0  0.0  0.0\n",
      "4     175      70   5.0    5.0  0.0  0.0  0.0\n",
      "5     180      75   6.0    6.0  0.0  0.0  0.0\n",
      "6     185      80   7.0    7.0  0.0  0.0  0.0\n",
      "7     190      85   8.0    8.0  0.0  0.0  0.0\n"
     ]
    }
   ],
   "source": [
    "df[\"D^2\"]=df[\"D\"]**2\n",
    "print(df)"
   ]
  },
  {
   "cell_type": "code",
   "execution_count": 66,
   "id": "b6b72176-4430-4c77-a983-ed80e39a7d2a",
   "metadata": {},
   "outputs": [
    {
     "name": "stdout",
     "output_type": "stream",
     "text": [
      "0.0\n"
     ]
    }
   ],
   "source": [
    "sum=df[\"D^2\"].sum()\n",
    "print(sum)"
   ]
  },
  {
   "cell_type": "code",
   "execution_count": 72,
   "id": "44f563c6-7e03-4cfe-9997-e9a664a97887",
   "metadata": {},
   "outputs": [
    {
     "name": "stdout",
     "output_type": "stream",
     "text": [
      "1.0\n"
     ]
    }
   ],
   "source": [
    "correlation_sp=1-((6*sum)/((n**3)-n))\n",
    "print(correlation_sp)"
   ]
  },
  {
   "cell_type": "code",
   "execution_count": null,
   "id": "3c0e43f5-8aa2-499f-a958-aac893969446",
   "metadata": {},
   "outputs": [],
   "source": []
  },
  {
   "cell_type": "code",
   "execution_count": null,
   "id": "73bf93d0-cd5d-4067-860a-20c382c83d86",
   "metadata": {},
   "outputs": [],
   "source": []
  }
 ],
 "metadata": {
  "kernelspec": {
   "display_name": "Python 3 (ipykernel)",
   "language": "python",
   "name": "python3"
  },
  "language_info": {
   "codemirror_mode": {
    "name": "ipython",
    "version": 3
   },
   "file_extension": ".py",
   "mimetype": "text/x-python",
   "name": "python",
   "nbconvert_exporter": "python",
   "pygments_lexer": "ipython3",
   "version": "3.12.4"
  }
 },
 "nbformat": 4,
 "nbformat_minor": 5
}
